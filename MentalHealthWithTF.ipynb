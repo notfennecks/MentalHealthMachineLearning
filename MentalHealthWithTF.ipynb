{
 "cells": [
  {
   "cell_type": "code",
   "execution_count": 104,
   "id": "0b589d7b",
   "metadata": {},
   "outputs": [],
   "source": [
    "import pandas as pd\n",
    "import tensorflow as tf\n",
    "from tensorflow import keras\n",
    "from sklearn.model_selection import train_test_split"
   ]
  },
  {
   "cell_type": "code",
   "execution_count": 105,
   "id": "74a84c99",
   "metadata": {},
   "outputs": [],
   "source": [
    "#Loading CSV file using pandas\n",
    "df = pd.read_csv('mentalhealth.csv')\n",
    "categorical_columns = ['Gender', 'Major', 'Marital status', 'Anxiety?', 'Panic attack?', 'Seek Help?', 'Depression?']"
   ]
  },
  {
   "cell_type": "code",
   "execution_count": 106,
   "id": "9a6023dd",
   "metadata": {},
   "outputs": [],
   "source": [
    "one_hot_encoded = pd.get_dummies(df[categorical_columns])"
   ]
  },
  {
   "cell_type": "code",
   "execution_count": 107,
   "id": "a86497c7",
   "metadata": {},
   "outputs": [],
   "source": [
    "#Combine original and encoded columns into one df\n",
    "df = pd.concat([df, one_hot_encoded], axis = 1)\n",
    "#Extract output data\n",
    "y = df['Depression?_Yes']\n",
    "#Drop uncessary categorical columns\n",
    "df = df.drop(categorical_columns, axis = 1)"
   ]
  },
  {
   "cell_type": "code",
   "execution_count": 108,
   "id": "1b43f837",
   "metadata": {},
   "outputs": [],
   "source": [
    "#Extracing input\n",
    "df = df.rename(columns={'Marital status_Yes': 'Marital Status?', 'Anxiety?_Yes': 'Anxiety?', 'Panic attack?_Yes': 'Panic Attack?', 'Seek Help?_Yes': 'Seek Help?'})\n",
    "redundant_columns = ['Marital status_No', 'Anxiety?_No', 'Panic attack?_No', 'Seek Help?_No', 'Depression?_No', 'Depression?_Yes']\n",
    "df = df.drop(redundant_columns, axis = 1)\n",
    "X = df"
   ]
  },
  {
   "cell_type": "code",
   "execution_count": 109,
   "id": "b8a106db",
   "metadata": {},
   "outputs": [
    {
     "name": "stdout",
     "output_type": "stream",
     "text": [
      "    Age  Year  GPA  Gender_Female  Gender_Male  Major_ALA  Major_Accounting   \\\n",
      "0  18.0     1  3.0              1            0          0                  0   \n",
      "1  21.0     2  3.0              0            1          0                  0   \n",
      "2  19.0     1  3.0              0            1          0                  0   \n",
      "3  22.0     3  3.0              1            0          0                  0   \n",
      "\n",
      "   Major_BCS  Major_BENL  Major_BIT  ...  Major_Radiography  Major_TAASL  \\\n",
      "0          0           0          0  ...                  0            0   \n",
      "1          0           0          0  ...                  0            0   \n",
      "2          0           0          1  ...                  0            0   \n",
      "3          0           0          0  ...                  0            0   \n",
      "\n",
      "   Major_Usuluddin   Major_engin  Major_koe  Major_psychology  \\\n",
      "0                 0            0          0                 0   \n",
      "1                 0            0          0                 0   \n",
      "2                 0            0          0                 0   \n",
      "3                 0            0          0                 0   \n",
      "\n",
      "   Marital Status?  Anxiety?  Panic Attack?  Seek Help?  \n",
      "0                0         0              1           0  \n",
      "1                0         1              0           0  \n",
      "2                0         1              1           0  \n",
      "3                1         0              0           0  \n",
      "\n",
      "[4 rows x 58 columns]\n"
     ]
    }
   ],
   "source": [
    "print(X.head(4))"
   ]
  },
  {
   "cell_type": "code",
   "execution_count": 166,
   "id": "15bb72d4",
   "metadata": {},
   "outputs": [],
   "source": [
    "#Spliting data into training data and test data\n",
    "X_train, X_test, y_train, y_test = train_test_split(X, y, test_size = 0.10, random_state = 42)"
   ]
  },
  {
   "cell_type": "code",
   "execution_count": 167,
   "id": "392e870a",
   "metadata": {},
   "outputs": [],
   "source": [
    "#Normalizing data\n",
    "X_train = X_train / 255.0\n",
    "X_test = X_test / 255.0"
   ]
  },
  {
   "cell_type": "code",
   "execution_count": 168,
   "id": "2f966c57",
   "metadata": {},
   "outputs": [
    {
     "name": "stdout",
     "output_type": "stream",
     "text": [
      "         Age      Year       GPA  Gender_Female  Gender_Male  Major_ALA  \\\n",
      "30  0.090196  0.007843  0.011765       0.003922     0.000000        0.0   \n",
      "97  0.070588  0.007843  0.011765       0.000000     0.003922        0.0   \n",
      "33  0.070588  0.007843  0.013725       0.000000     0.003922        0.0   \n",
      "77  0.070588  0.007843  0.011765       0.003922     0.000000        0.0   \n",
      "\n",
      "    Major_Accounting   Major_BCS  Major_BENL  Major_BIT  ...  \\\n",
      "30                0.0   0.000000         0.0        0.0  ...   \n",
      "97                0.0   0.000000         0.0        0.0  ...   \n",
      "33                0.0   0.003922         0.0        0.0  ...   \n",
      "77                0.0   0.000000         0.0        0.0  ...   \n",
      "\n",
      "    Major_Radiography  Major_TAASL  Major_Usuluddin   Major_engin  Major_koe  \\\n",
      "30                0.0          0.0               0.0          0.0        0.0   \n",
      "97                0.0          0.0               0.0          0.0        0.0   \n",
      "33                0.0          0.0               0.0          0.0        0.0   \n",
      "77                0.0          0.0               0.0          0.0        0.0   \n",
      "\n",
      "    Major_psychology  Marital Status?  Anxiety?  Panic Attack?  Seek Help?  \n",
      "30               0.0         0.000000  0.000000       0.000000    0.000000  \n",
      "97               0.0         0.000000  0.003922       0.000000    0.000000  \n",
      "33               0.0         0.003922  0.003922       0.000000    0.003922  \n",
      "77               0.0         0.000000  0.000000       0.003922    0.000000  \n",
      "\n",
      "[4 rows x 58 columns]\n"
     ]
    }
   ],
   "source": [
    "print(X_train.head(4))"
   ]
  },
  {
   "cell_type": "code",
   "execution_count": 169,
   "id": "e0ade00b",
   "metadata": {},
   "outputs": [],
   "source": [
    "num_input_features = X_train.shape[1]\n",
    "num_output_classes = 2"
   ]
  },
  {
   "cell_type": "code",
   "execution_count": 170,
   "id": "e3fb5f2f",
   "metadata": {},
   "outputs": [],
   "source": [
    "# Define the model architecture\n",
    "model = keras.Sequential([\n",
    "  keras.layers.Flatten(input_shape = (num_input_features,)),\n",
    "  keras.layers.Dense(128, activation = 'relu'),\n",
    "  keras.layers.Dense(64, activation = 'relu'),\n",
    "  keras.layers.Dense(num_output_classes, activation = 'softmax')\n",
    "])"
   ]
  },
  {
   "cell_type": "code",
   "execution_count": 171,
   "id": "99dc12a2",
   "metadata": {},
   "outputs": [],
   "source": [
    "# Compile the model using the 'adam' optimizer, loss function is the 'sparse_categorical_crossentropy' and for evaluation metric we are using 'accuracy' which is fairly commno for classification\n",
    "model.compile(optimizer = 'adam',\n",
    "              loss = 'sparse_categorical_crossentropy',\n",
    "              metrics = ['accuracy'])"
   ]
  },
  {
   "cell_type": "code",
   "execution_count": 172,
   "id": "2fc1dfda",
   "metadata": {},
   "outputs": [],
   "source": [
    "num_epochs = 80"
   ]
  },
  {
   "cell_type": "code",
   "execution_count": 173,
   "id": "85cfede5",
   "metadata": {},
   "outputs": [
    {
     "name": "stdout",
     "output_type": "stream",
     "text": [
      "Epoch 1/80\n",
      "4/4 [==============================] - 0s 1ms/step - loss: nan - accuracy: 0.4455\n",
      "Epoch 2/80\n",
      "4/4 [==============================] - 0s 1ms/step - loss: nan - accuracy: 0.6535\n",
      "Epoch 3/80\n",
      "4/4 [==============================] - 0s 1ms/step - loss: nan - accuracy: 0.6535\n",
      "Epoch 4/80\n",
      "4/4 [==============================] - 0s 1ms/step - loss: nan - accuracy: 0.6535\n",
      "Epoch 5/80\n",
      "4/4 [==============================] - 0s 1ms/step - loss: nan - accuracy: 0.6535\n",
      "Epoch 6/80\n",
      "4/4 [==============================] - 0s 1ms/step - loss: nan - accuracy: 0.6535\n",
      "Epoch 7/80\n",
      "4/4 [==============================] - 0s 1ms/step - loss: nan - accuracy: 0.6535\n",
      "Epoch 8/80\n",
      "4/4 [==============================] - 0s 1ms/step - loss: nan - accuracy: 0.6535\n",
      "Epoch 9/80\n",
      "4/4 [==============================] - 0s 1ms/step - loss: nan - accuracy: 0.6535\n",
      "Epoch 10/80\n",
      "4/4 [==============================] - 0s 1ms/step - loss: nan - accuracy: 0.6535\n",
      "Epoch 11/80\n",
      "4/4 [==============================] - 0s 1ms/step - loss: nan - accuracy: 0.6535\n",
      "Epoch 12/80\n",
      "4/4 [==============================] - 0s 1ms/step - loss: nan - accuracy: 0.6535\n",
      "Epoch 13/80\n",
      "4/4 [==============================] - 0s 1ms/step - loss: nan - accuracy: 0.6535\n",
      "Epoch 14/80\n",
      "4/4 [==============================] - 0s 1ms/step - loss: nan - accuracy: 0.6535\n",
      "Epoch 15/80\n",
      "4/4 [==============================] - 0s 1ms/step - loss: nan - accuracy: 0.6535\n",
      "Epoch 16/80\n",
      "4/4 [==============================] - 0s 1ms/step - loss: nan - accuracy: 0.6535\n",
      "Epoch 17/80\n",
      "4/4 [==============================] - 0s 1ms/step - loss: nan - accuracy: 0.6535\n",
      "Epoch 18/80\n",
      "4/4 [==============================] - 0s 1ms/step - loss: nan - accuracy: 0.6535\n",
      "Epoch 19/80\n",
      "4/4 [==============================] - 0s 1ms/step - loss: nan - accuracy: 0.6535\n",
      "Epoch 20/80\n",
      "4/4 [==============================] - 0s 1ms/step - loss: nan - accuracy: 0.6535\n",
      "Epoch 21/80\n",
      "4/4 [==============================] - 0s 1ms/step - loss: nan - accuracy: 0.6535\n",
      "Epoch 22/80\n",
      "4/4 [==============================] - 0s 1ms/step - loss: nan - accuracy: 0.6535\n",
      "Epoch 23/80\n",
      "4/4 [==============================] - 0s 1ms/step - loss: nan - accuracy: 0.6535\n",
      "Epoch 24/80\n",
      "4/4 [==============================] - 0s 1ms/step - loss: nan - accuracy: 0.6535\n",
      "Epoch 25/80\n",
      "4/4 [==============================] - 0s 1ms/step - loss: nan - accuracy: 0.6535\n",
      "Epoch 26/80\n",
      "4/4 [==============================] - 0s 1ms/step - loss: nan - accuracy: 0.6535\n",
      "Epoch 27/80\n",
      "4/4 [==============================] - 0s 1ms/step - loss: nan - accuracy: 0.6535\n",
      "Epoch 28/80\n",
      "4/4 [==============================] - 0s 1ms/step - loss: nan - accuracy: 0.6535\n",
      "Epoch 29/80\n",
      "4/4 [==============================] - 0s 1ms/step - loss: nan - accuracy: 0.6535\n",
      "Epoch 30/80\n",
      "4/4 [==============================] - 0s 1ms/step - loss: nan - accuracy: 0.6535\n",
      "Epoch 31/80\n",
      "4/4 [==============================] - 0s 1ms/step - loss: nan - accuracy: 0.6535\n",
      "Epoch 32/80\n",
      "4/4 [==============================] - 0s 1ms/step - loss: nan - accuracy: 0.6535\n",
      "Epoch 33/80\n",
      "4/4 [==============================] - 0s 1ms/step - loss: nan - accuracy: 0.6535\n",
      "Epoch 34/80\n",
      "4/4 [==============================] - 0s 999us/step - loss: nan - accuracy: 0.6535\n",
      "Epoch 35/80\n",
      "4/4 [==============================] - 0s 1ms/step - loss: nan - accuracy: 0.6535\n",
      "Epoch 36/80\n",
      "4/4 [==============================] - 0s 1ms/step - loss: nan - accuracy: 0.6535\n",
      "Epoch 37/80\n",
      "4/4 [==============================] - 0s 883us/step - loss: nan - accuracy: 0.6535\n",
      "Epoch 38/80\n",
      "4/4 [==============================] - 0s 1ms/step - loss: nan - accuracy: 0.6535\n",
      "Epoch 39/80\n",
      "4/4 [==============================] - 0s 1ms/step - loss: nan - accuracy: 0.6535\n",
      "Epoch 40/80\n",
      "4/4 [==============================] - 0s 1ms/step - loss: nan - accuracy: 0.6535\n",
      "Epoch 41/80\n",
      "4/4 [==============================] - 0s 1ms/step - loss: nan - accuracy: 0.6535\n",
      "Epoch 42/80\n",
      "4/4 [==============================] - 0s 1ms/step - loss: nan - accuracy: 0.6535\n",
      "Epoch 43/80\n",
      "4/4 [==============================] - 0s 998us/step - loss: nan - accuracy: 0.6535\n",
      "Epoch 44/80\n",
      "4/4 [==============================] - 0s 1ms/step - loss: nan - accuracy: 0.6535\n",
      "Epoch 45/80\n",
      "4/4 [==============================] - 0s 1ms/step - loss: nan - accuracy: 0.6535\n",
      "Epoch 46/80\n",
      "4/4 [==============================] - 0s 850us/step - loss: nan - accuracy: 0.6535\n",
      "Epoch 47/80\n",
      "4/4 [==============================] - 0s 1ms/step - loss: nan - accuracy: 0.6535\n",
      "Epoch 48/80\n",
      "4/4 [==============================] - 0s 1ms/step - loss: nan - accuracy: 0.6535\n",
      "Epoch 49/80\n",
      "4/4 [==============================] - 0s 1ms/step - loss: nan - accuracy: 0.6535\n",
      "Epoch 50/80\n",
      "4/4 [==============================] - 0s 667us/step - loss: nan - accuracy: 0.6535\n",
      "Epoch 51/80\n",
      "4/4 [==============================] - 0s 881us/step - loss: nan - accuracy: 0.6535\n",
      "Epoch 52/80\n",
      "4/4 [==============================] - 0s 1ms/step - loss: nan - accuracy: 0.6535\n",
      "Epoch 53/80\n",
      "4/4 [==============================] - 0s 1ms/step - loss: nan - accuracy: 0.6535\n",
      "Epoch 54/80\n",
      "4/4 [==============================] - 0s 667us/step - loss: nan - accuracy: 0.6535\n",
      "Epoch 55/80\n",
      "4/4 [==============================] - 0s 1ms/step - loss: nan - accuracy: 0.6535\n",
      "Epoch 56/80\n",
      "4/4 [==============================] - 0s 1ms/step - loss: nan - accuracy: 0.6535\n",
      "Epoch 57/80\n",
      "4/4 [==============================] - 0s 966us/step - loss: nan - accuracy: 0.6535\n",
      "Epoch 58/80\n",
      "4/4 [==============================] - 0s 971us/step - loss: nan - accuracy: 0.6535\n",
      "Epoch 59/80\n",
      "4/4 [==============================] - 0s 1ms/step - loss: nan - accuracy: 0.6535\n",
      "Epoch 60/80\n",
      "4/4 [==============================] - 0s 1ms/step - loss: nan - accuracy: 0.6535\n",
      "Epoch 61/80\n",
      "4/4 [==============================] - 0s 999us/step - loss: nan - accuracy: 0.6535\n",
      "Epoch 62/80\n",
      "4/4 [==============================] - 0s 997us/step - loss: nan - accuracy: 0.6535\n",
      "Epoch 63/80\n",
      "4/4 [==============================] - 0s 912us/step - loss: nan - accuracy: 0.6535\n",
      "Epoch 64/80\n",
      "4/4 [==============================] - 0s 664us/step - loss: nan - accuracy: 0.6535\n",
      "Epoch 65/80\n",
      "4/4 [==============================] - 0s 1ms/step - loss: nan - accuracy: 0.6535\n",
      "Epoch 66/80\n",
      "4/4 [==============================] - 0s 1ms/step - loss: nan - accuracy: 0.6535\n",
      "Epoch 67/80\n",
      "4/4 [==============================] - 0s 1ms/step - loss: nan - accuracy: 0.6535\n",
      "Epoch 68/80\n",
      "4/4 [==============================] - 0s 1ms/step - loss: nan - accuracy: 0.6535\n",
      "Epoch 69/80\n",
      "4/4 [==============================] - 0s 1ms/step - loss: nan - accuracy: 0.6535\n",
      "Epoch 70/80\n",
      "4/4 [==============================] - 0s 1ms/step - loss: nan - accuracy: 0.6535\n",
      "Epoch 71/80\n",
      "4/4 [==============================] - 0s 1ms/step - loss: nan - accuracy: 0.6535\n",
      "Epoch 72/80\n",
      "4/4 [==============================] - 0s 1ms/step - loss: nan - accuracy: 0.6535\n",
      "Epoch 73/80\n",
      "4/4 [==============================] - 0s 1ms/step - loss: nan - accuracy: 0.6535\n",
      "Epoch 74/80\n",
      "4/4 [==============================] - 0s 1ms/step - loss: nan - accuracy: 0.6535\n",
      "Epoch 75/80\n",
      "4/4 [==============================] - 0s 1ms/step - loss: nan - accuracy: 0.6535\n",
      "Epoch 76/80\n",
      "4/4 [==============================] - 0s 1ms/step - loss: nan - accuracy: 0.6535\n",
      "Epoch 77/80\n",
      "4/4 [==============================] - 0s 1ms/step - loss: nan - accuracy: 0.6535\n",
      "Epoch 78/80\n",
      "4/4 [==============================] - 0s 904us/step - loss: nan - accuracy: 0.6535\n",
      "Epoch 79/80\n",
      "4/4 [==============================] - 0s 986us/step - loss: nan - accuracy: 0.6535\n",
      "Epoch 80/80\n",
      "4/4 [==============================] - 0s 1ms/step - loss: nan - accuracy: 0.6535\n"
     ]
    },
    {
     "data": {
      "text/plain": [
       "<keras.callbacks.History at 0x2886c3d4ca0>"
      ]
     },
     "execution_count": 173,
     "metadata": {},
     "output_type": "execute_result"
    }
   ],
   "source": [
    "# Train the model\n",
    "model.fit(X, y, epochs = num_epochs)"
   ]
  },
  {
   "cell_type": "code",
   "execution_count": 174,
   "id": "ed1d8305",
   "metadata": {},
   "outputs": [
    {
     "name": "stdout",
     "output_type": "stream",
     "text": [
      "1/1 [==============================] - 0s 78ms/step - loss: nan - accuracy: 0.7273\n",
      "Test accuracy: 0.7272727489471436\n"
     ]
    }
   ],
   "source": [
    "# Evaluate the model on a test set (if available)\n",
    "test_loss, test_acc = model.evaluate(X_test, y_test)\n",
    "print('Test accuracy:', test_acc)"
   ]
  },
  {
   "cell_type": "markdown",
   "id": "1dfe0589",
   "metadata": {},
   "source": [
    "Epochs does not seem to have any affect on the accuracy of this neural network classifier."
   ]
  },
  {
   "cell_type": "code",
   "execution_count": null,
   "id": "de6c8c05",
   "metadata": {},
   "outputs": [],
   "source": []
  }
 ],
 "metadata": {
  "kernelspec": {
   "display_name": "Python 3 (ipykernel)",
   "language": "python",
   "name": "python3"
  },
  "language_info": {
   "codemirror_mode": {
    "name": "ipython",
    "version": 3
   },
   "file_extension": ".py",
   "mimetype": "text/x-python",
   "name": "python",
   "nbconvert_exporter": "python",
   "pygments_lexer": "ipython3",
   "version": "3.9.16"
  }
 },
 "nbformat": 4,
 "nbformat_minor": 5
}
